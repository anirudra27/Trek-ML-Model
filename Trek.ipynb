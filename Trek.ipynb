{
 "cells": [
  {
   "cell_type": "code",
   "execution_count": 140,
   "id": "6a292d60",
   "metadata": {},
   "outputs": [],
   "source": [
    "import pandas as pd\n",
    "from sklearn.metrics.pairwise import cosine_similarity\n",
    "from sklearn.preprocessing import MinMaxScaler\n",
    "from sklearn.preprocessing import OneHotEncoder\n",
    "import warnings\n",
    "warnings.filterwarnings('ignore')\n",
    "from joblib import dump, load\n"
   ]
  },
  {
   "cell_type": "code",
   "execution_count": 141,
   "id": "c928e704",
   "metadata": {},
   "outputs": [],
   "source": [
    "# Load dataset\n",
    "data = pd.DataFrame({\n",
    "    'Trek': ['Everest Base Camp Trek', 'Ama Yangri Trek', 'Mardi Himal Trek', 'Panch Pokhari Trek',\n",
    "             'Annapurna Base Camp Trek', 'Manaslu Circuit Trek', 'Upper Mustang Trek', 'Shey Phoksundo Trek',\n",
    "             'Langtang Valley Trek', 'Gosaikunda Trek', 'Peaky Peak Trek', 'Rara Lake Trek',\n",
    "             'Kanchenjunga Trek', 'Upper Dolpo Trek', 'Kori - Kapuche Trek'],\n",
    "    'Cost': [40000, 2500, 6000, 5000, 25000, 28000, 30000, 12000, 10000, 8000, 12000, 15000, 50000, 50000, 8000],\n",
    "    'Days': [16, 3, 4, 5, 14, 14, 12, 7, 7, 3, 7, 8, 22, 20, 4],\n",
    "    'Trip Grade': ['Difficult', 'Easy', 'Moderate', 'Moderate', 'Moderate', 'Difficult', 'Easy', 'Moderate',\n",
    "                   'Easy', 'Moderate', 'Easy', 'Moderate', 'Difficult', 'Difficult', 'Moderate'],\n",
    "    'Max Altitude': [5545, 3949, 4500, 4100, 4210, 5416, 4210, 3660, 5050, 4380, 4320, 2990, 5120, 5350, 3800],\n",
    "    'Best Travel Month': ['March - May & Sept - Dec', 'Jan-Feb & March - May', 'March - May & Sept - Dec',\n",
    "                          'March - May & Sept - Nov', 'March - May & Sept - Dec', 'March - May & Sept - Dec',\n",
    "                          'March - May & Sept - Dec', 'March - May & Sept - Dec', 'March - May & Sept - Dec',\n",
    "                          'March - May & Sept - Dec', 'March-May & Sept-Dec', 'March - May & Sept - Dec',\n",
    "                          'March - May & Sept - Dec', 'March - May & Sept - Nov', 'March - May & Sept - Nov']\n",
    "})"
   ]
  },
  {
   "cell_type": "code",
   "execution_count": 142,
   "id": "b430e83f",
   "metadata": {},
   "outputs": [],
   "source": [
    "# Clean 'Cost' and 'Days' columns\n",
    "data['Cost'] = data['Cost'].astype(float)\n",
    "data['Days'] = data['Days'].astype(float)\n",
    "\n"
   ]
  },
  {
   "cell_type": "code",
   "execution_count": 143,
   "id": "c2da6413",
   "metadata": {},
   "outputs": [],
   "source": [
    "# Normalize 'Cost' and 'Days' columns\n",
    "scaler = MinMaxScaler()\n",
    "data[['Cost', 'Days']] = scaler.fit_transform(data[['Cost', 'Days']])\n"
   ]
  },
  {
   "cell_type": "code",
   "execution_count": 144,
   "id": "ed4ba3fb",
   "metadata": {},
   "outputs": [],
   "source": [
    "# One-hot encode 'Best Travel Month'\n",
    "month_encoder = OneHotEncoder(sparse=False)\n",
    "months_encoded = month_encoder.fit_transform(data[['Best Travel Month']])\n",
    "months_df = pd.DataFrame(months_encoded, columns=month_encoder.get_feature_names_out(['Best Travel Month']))\n",
    "data = pd.concat([data, months_df], axis=1)"
   ]
  },
  {
   "cell_type": "code",
   "execution_count": 145,
   "id": "9d8852b2",
   "metadata": {},
   "outputs": [],
   "source": [
    "# Select features for similarity calculation\n",
    "features = ['Cost', 'Days'] + list(month_encoder.get_feature_names_out(['Best Travel Month']))\n",
    "\n"
   ]
  },
  {
   "cell_type": "code",
   "execution_count": 146,
   "id": "2b722371",
   "metadata": {},
   "outputs": [
    {
     "name": "stdout",
     "output_type": "stream",
     "text": [
      "Number of columns in DataFrame after one-hot encoding: 10\n",
      "Columns in DataFrame: Index(['Trek', 'Cost', 'Days', 'Trip Grade', 'Max Altitude',\n",
      "       'Best Travel Month', 'Best Travel Month_Jan-Feb & March - May',\n",
      "       'Best Travel Month_March - May & Sept - Dec',\n",
      "       'Best Travel Month_March - May & Sept - Nov',\n",
      "       'Best Travel Month_March-May & Sept-Dec'],\n",
      "      dtype='object')\n",
      "Number of input features: 6\n",
      "Input features: ['Cost', 'Days', 'Best Travel Month_Jan-Feb & March - May', 'Best Travel Month_March - May & Sept - Dec', 'Best Travel Month_March - May & Sept - Nov', 'Best Travel Month_March-May & Sept-Dec']\n",
      "Shape of DataFrame: (15, 10)\n"
     ]
    }
   ],
   "source": [
    "# Check DataFrame columns\n",
    "print(\"Number of columns in DataFrame after one-hot encoding:\", len(data.columns))\n",
    "print(\"Columns in DataFrame:\", data.columns)\n",
    "\n",
    "# Check input features\n",
    "print(\"Number of input features:\", len(features))\n",
    "print(\"Input features:\", features)\n",
    "\n",
    "# Check data dimensions\n",
    "print(\"Shape of DataFrame:\", data.shape)\n"
   ]
  },
  {
   "cell_type": "code",
   "execution_count": 147,
   "id": "0133a9b6",
   "metadata": {},
   "outputs": [
    {
     "name": "stdout",
     "output_type": "stream",
     "text": [
      "Trek                                          0\n",
      "Cost                                          0\n",
      "Days                                          0\n",
      "Trip Grade                                    0\n",
      "Max Altitude                                  0\n",
      "Best Travel Month                             0\n",
      "Best Travel Month_Jan-Feb & March - May       0\n",
      "Best Travel Month_March - May & Sept - Dec    0\n",
      "Best Travel Month_March - May & Sept - Nov    0\n",
      "Best Travel Month_March-May & Sept-Dec        0\n",
      "dtype: int64\n",
      "            Cost       Days  Max Altitude  \\\n",
      "count  15.000000  15.000000     15.000000   \n",
      "mean    0.370526   0.354386   4440.000000   \n",
      "std     0.340260   0.327156    729.029786   \n",
      "min     0.000000   0.000000   2990.000000   \n",
      "25%     0.115789   0.078947   4024.500000   \n",
      "50%     0.200000   0.210526   4320.000000   \n",
      "75%     0.557895   0.578947   5085.000000   \n",
      "max     1.000000   1.000000   5545.000000   \n",
      "\n",
      "       Best Travel Month_Jan-Feb & March - May  \\\n",
      "count                                15.000000   \n",
      "mean                                  0.066667   \n",
      "std                                   0.258199   \n",
      "min                                   0.000000   \n",
      "25%                                   0.000000   \n",
      "50%                                   0.000000   \n",
      "75%                                   0.000000   \n",
      "max                                   1.000000   \n",
      "\n",
      "       Best Travel Month_March - May & Sept - Dec  \\\n",
      "count                                   15.000000   \n",
      "mean                                     0.666667   \n",
      "std                                      0.487950   \n",
      "min                                      0.000000   \n",
      "25%                                      0.000000   \n",
      "50%                                      1.000000   \n",
      "75%                                      1.000000   \n",
      "max                                      1.000000   \n",
      "\n",
      "       Best Travel Month_March - May & Sept - Nov  \\\n",
      "count                                   15.000000   \n",
      "mean                                     0.200000   \n",
      "std                                      0.414039   \n",
      "min                                      0.000000   \n",
      "25%                                      0.000000   \n",
      "50%                                      0.000000   \n",
      "75%                                      0.000000   \n",
      "max                                      1.000000   \n",
      "\n",
      "       Best Travel Month_March-May & Sept-Dec  \n",
      "count                               15.000000  \n",
      "mean                                 0.066667  \n",
      "std                                  0.258199  \n",
      "min                                  0.000000  \n",
      "25%                                  0.000000  \n",
      "50%                                  0.000000  \n",
      "75%                                  0.000000  \n",
      "max                                  1.000000  \n"
     ]
    }
   ],
   "source": [
    "# Check for missing values\n",
    "print(data.isnull().sum())\n",
    "\n",
    "# Handle missing values\n",
    "data.dropna(inplace=True)\n",
    "\n",
    "# Check data range\n",
    "print(data.describe())"
   ]
  },
  {
   "cell_type": "code",
   "execution_count": 165,
   "id": "9c13f1ce",
   "metadata": {},
   "outputs": [],
   "source": [
    "# Compute similarity matrix\n",
    "similarity_matrix = cosine_similarity(data[features])"
   ]
  },
  {
   "cell_type": "code",
   "execution_count": 166,
   "id": "36c63ad7",
   "metadata": {},
   "outputs": [],
   "source": [
    "def get_recommendations(input_price, input_days, input_month, data, similarity_matrix, scaler, top_n=5):\n",
    "    # Create input features DataFrame with only the relevant columns\n",
    "    input_features = pd.DataFrame({\n",
    "        'Cost': [input_price] * len(data),  # Repeat input_price for all data points\n",
    "        'Days': [input_days] * len(data),  # Repeat input_days for all data points\n",
    "        'Best Travel Month_' + input_month: [1] * len(data)  # Encode the selected month as 1 for all data points\n",
    "    })\n",
    "    \n",
    "    # Normalize input features\n",
    "    input_features[['Cost', 'Days']] = scaler.transform(input_features[['Cost', 'Days']])\n",
    "    \n",
    "    # Compute similarities\n",
    "    similarities = similarity_matrix.dot(input_features.values.T).flatten()\n",
    "    \n",
    "    # Get indices of top recommendations\n",
    "    recommended_indices = similarities.argsort()[-top_n:][::-1]\n",
    "    \n",
    "    # Get recommended treks\n",
    "    recommendations = data.iloc[recommended_indices].copy()\n",
    "    \n",
    "    return recommendations"
   ]
  },
  {
   "cell_type": "code",
   "execution_count": 167,
   "id": "f5ef089c",
   "metadata": {},
   "outputs": [],
   "source": [
    "# Save the recommendation function\n",
    "dump(get_recommendations, 'recommendation_model.joblib')\n",
    "\n",
    "# Load the recommendation function\n",
    "loaded_model = load('recommendation_model.joblib')"
   ]
  },
  {
   "cell_type": "code",
   "execution_count": null,
   "id": "141d00f7",
   "metadata": {},
   "outputs": [],
   "source": []
  },
  {
   "cell_type": "code",
   "execution_count": 173,
   "id": "9017c417",
   "metadata": {},
   "outputs": [],
   "source": [
    "# Sample input values\n",
    "input_price = 0.5  # Normalized cost value\n",
    "input_days = 0.3  # Normalized days value\n",
    "input_month = 'Jan-Feb & March - May'  # Selected month\n"
   ]
  },
  {
   "cell_type": "code",
   "execution_count": null,
   "id": "55b220a3",
   "metadata": {},
   "outputs": [],
   "source": []
  },
  {
   "cell_type": "code",
   "execution_count": null,
   "id": "89f5dc8b",
   "metadata": {},
   "outputs": [],
   "source": []
  }
 ],
 "metadata": {
  "kernelspec": {
   "display_name": "Python 3 (ipykernel)",
   "language": "python",
   "name": "python3"
  },
  "language_info": {
   "codemirror_mode": {
    "name": "ipython",
    "version": 3
   },
   "file_extension": ".py",
   "mimetype": "text/x-python",
   "name": "python",
   "nbconvert_exporter": "python",
   "pygments_lexer": "ipython3",
   "version": "3.9.13"
  }
 },
 "nbformat": 4,
 "nbformat_minor": 5
}
